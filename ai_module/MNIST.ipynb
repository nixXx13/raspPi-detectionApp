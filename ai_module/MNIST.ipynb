{
 "cells": [
  {
   "cell_type": "code",
   "execution_count": 1,
   "metadata": {},
   "outputs": [],
   "source": [
    "import tensorflow as tf\n",
    "from tensorflow import keras as k\n",
    "# from utils import utils_c\n",
    "import os\n",
    "import numpy as np\n",
    "\n",
    "import numpy as np\n",
    "from tensorflow.keras.models import Sequential\n",
    "from tensorflow.keras.applications import VGG16\n",
    "import os\n",
    "\n",
    "# layers\n",
    "from tensorflow.keras.layers import Flatten,Dense,Conv2D,MaxPooling2D,Dropout,BatchNormalization,Convolution2D\n",
    "\n",
    "# optimizers\n",
    "from tensorflow.keras.optimizers import Adam\n",
    "\n",
    "# preprocessing\n",
    "from tensorflow.keras.preprocessing import image"
   ]
  },
  {
   "cell_type": "code",
   "execution_count": 2,
   "metadata": {},
   "outputs": [
    {
     "name": "stderr",
     "output_type": "stream",
     "text": [
      "Using TensorFlow backend.\n"
     ]
    }
   ],
   "source": [
    "\n",
    "from keras.datasets.mnist import load_data\n",
    "\n",
    "(train_digits, train_labels), (test_digits, test_labels) = load_data()"
   ]
  },
  {
   "cell_type": "code",
   "execution_count": 3,
   "metadata": {},
   "outputs": [],
   "source": [
    "size = (train_labels.shape[0],1)\n",
    "train_labels = train_labels.reshape(size)\n",
    "\n",
    "N = train_digits.shape[0]\n",
    "train_digits = train_digits.reshape(N,-1)\n",
    "\n",
    "train_digits = np.hstack((train_digits,train_labels))"
   ]
  },
  {
   "cell_type": "code",
   "execution_count": 4,
   "metadata": {},
   "outputs": [
    {
     "data": {
      "text/plain": [
       "((10000, 785), (50000, 785))"
      ]
     },
     "execution_count": 4,
     "metadata": {},
     "output_type": "execute_result"
    }
   ],
   "source": [
    "VALID_SIZE = 10000\n",
    "train_digits = np.random.permutation(train_digits)\n",
    "valid_digits = train_digits[:VALID_SIZE]\n",
    "train_digits = train_digits[VALID_SIZE:]\n",
    "valid_digits.shape,train_digits.shape"
   ]
  },
  {
   "cell_type": "code",
   "execution_count": 5,
   "metadata": {},
   "outputs": [
    {
     "data": {
      "text/plain": [
       "((10000, 784), (10000, 1))"
      ]
     },
     "execution_count": 5,
     "metadata": {},
     "output_type": "execute_result"
    }
   ],
   "source": [
    "train = train_digits[:,:784]\n",
    "train_labels = train_digits[:,784:]\n",
    "\n",
    "valid = valid_digits[:,:784]\n",
    "valid_labels = valid_digits[:,784:]\n",
    "\n",
    "valid.shape,valid_labels.shape "
   ]
  },
  {
   "cell_type": "code",
   "execution_count": 6,
   "metadata": {},
   "outputs": [
    {
     "data": {
      "text/plain": [
       "((50000, 28, 28, 1), (10000, 28, 28, 1))"
      ]
     },
     "execution_count": 6,
     "metadata": {},
     "output_type": "execute_result"
    }
   ],
   "source": [
    "N = train.shape[0]\n",
    "train = train.reshape((N,28,28,1))\n",
    "\n",
    "N = valid.shape[0]\n",
    "valid = valid.reshape((N,28,28,1))\n",
    "\n",
    "train.shape,valid.shape "
   ]
  },
  {
   "cell_type": "code",
   "execution_count": 7,
   "metadata": {},
   "outputs": [],
   "source": [
    "testt = test_digits.reshape(test_digits.shape+(1,))"
   ]
  },
  {
   "cell_type": "code",
   "execution_count": 8,
   "metadata": {},
   "outputs": [
    {
     "data": {
      "text/plain": [
       "((50000, 28, 28, 1), (10000, 28, 28, 1), (10000, 28, 28, 1))"
      ]
     },
     "execution_count": 8,
     "metadata": {},
     "output_type": "execute_result"
    }
   ],
   "source": [
    "train.shape,valid.shape,testt.shape"
   ]
  },
  {
   "cell_type": "code",
   "execution_count": 9,
   "metadata": {},
   "outputs": [],
   "source": [
    "testt = testt.astype('float32') / 255\n",
    "train = train.astype('float32') / 255\n",
    "valid = valid.astype('float32') / 255"
   ]
  },
  {
   "cell_type": "code",
   "execution_count": 10,
   "metadata": {},
   "outputs": [],
   "source": [
    "from keras.utils import to_categorical\n",
    "num_classes = 10\n",
    "train_labels_cat = to_categorical(train_labels,num_classes)\n",
    "test_labels_cat = to_categorical(test_labels,num_classes)\n",
    "valid_labels_cat = to_categorical(valid_labels,num_classes)\n",
    "\n"
   ]
  },
  {
   "cell_type": "code",
   "execution_count": 11,
   "metadata": {},
   "outputs": [
    {
     "data": {
      "text/plain": [
       "((50000, 10), (10000, 10), (10000, 10))"
      ]
     },
     "execution_count": 11,
     "metadata": {},
     "output_type": "execute_result"
    }
   ],
   "source": [
    "train_labels_cat.shape, test_labels_cat.shape,valid_labels_cat.shape"
   ]
  },
  {
   "cell_type": "code",
   "execution_count": 12,
   "metadata": {},
   "outputs": [
    {
     "name": "stdout",
     "output_type": "stream",
     "text": [
      "Populating the interactive namespace from numpy and matplotlib\n"
     ]
    },
    {
     "name": "stderr",
     "output_type": "stream",
     "text": [
      "/home/ubuntu/.virtualenvs/dl4cv/lib/python3.6/site-packages/IPython/core/magics/pylab.py:160: UserWarning: pylab import has clobbered these variables: ['size']\n",
      "`%matplotlib` prevents importing * from pylab and numpy\n",
      "  \"\\n`%matplotlib` prevents importing * from pylab and numpy\"\n"
     ]
    }
   ],
   "source": [
    "%pylab inline\n",
    "import matplotlib.pyplot as plt\n",
    "    \n",
    "def displayImageArr(arr,title = \"\"):\n",
    "    plt.imshow(arr)\n",
    "    if title != \"\":\n",
    "        print(\"======= title {}\".format(title))\n"
   ]
  },
  {
   "cell_type": "code",
   "execution_count": 13,
   "metadata": {},
   "outputs": [
    {
     "name": "stdout",
     "output_type": "stream",
     "text": [
      "======= title [4]\n"
     ]
    },
    {
     "name": "stderr",
     "output_type": "stream",
     "text": [
      "/home/ubuntu/.virtualenvs/dl4cv/lib/python3.6/site-packages/ipykernel_launcher.py:6: FutureWarning: elementwise comparison failed; returning scalar instead, but in the future will perform elementwise comparison\n",
      "  \n"
     ]
    },
    {
     "data": {
      "image/png": "[encoded data removed]",
      "text/plain": [
       "<Figure size 432x288 with 1 Axes>"
      ]
     },
     "metadata": {
      "needs_background": "light"
     },
     "output_type": "display_data"
    }
   ],
   "source": [
    "index = 321\n",
    "\n",
    "displayImageArr(valid[index].reshape(valid[index].shape[:-1]),valid_labels[index])"
   ]
  },
  {
   "cell_type": "markdown",
   "metadata": {},
   "source": [
    "# Models"
   ]
  },
  {
   "cell_type": "code",
   "execution_count": 14,
   "metadata": {},
   "outputs": [],
   "source": [
    "def linModel():\n",
    "    print(\"building model linModel\")\n",
    "    model = Sequential([\n",
    "        BatchNormalization(input_shape = (28,28,1)),\n",
    "        Flatten(),\n",
    "        Dense(10,activation='softmax')\n",
    "    ])\n",
    "    model.compile(Adam(),loss='categorical_crossentropy',metrics=[\"accuracy\"])\n",
    "    return model"
   ]
  },
  {
   "cell_type": "code",
   "execution_count": 26,
   "metadata": {},
   "outputs": [
    {
     "name": "stdout",
     "output_type": "stream",
     "text": [
      "building model linModel\n"
     ]
    }
   ],
   "source": [
    "model = linModel()\n",
    "EP = 15\n",
    "BS = 32"
   ]
  },
  {
   "cell_type": "code",
   "execution_count": 25,
   "metadata": {},
   "outputs": [
    {
     "name": "stdout",
     "output_type": "stream",
     "text": [
      "Train on 50000 samples, validate on 10000 samples\n",
      "Epoch 1/5\n",
      "50000/50000 [==============================] - 7s 141us/step - loss: 0.4060 - acc: 0.8810 - val_loss: 0.3124 - val_acc: 0.9098\n",
      "Epoch 2/5\n",
      "50000/50000 [==============================] - 6s 110us/step - loss: 0.2993 - acc: 0.9151 - val_loss: 0.2940 - val_acc: 0.9130\n",
      "Epoch 3/5\n",
      "50000/50000 [==============================] - 6s 110us/step - loss: 0.2854 - acc: 0.9180 - val_loss: 0.2853 - val_acc: 0.9207\n",
      "Epoch 4/5\n",
      "50000/50000 [==============================] - 5s 110us/step - loss: 0.2766 - acc: 0.9230 - val_loss: 0.3057 - val_acc: 0.9110\n",
      "Epoch 5/5\n",
      "50000/50000 [==============================] - 5s 110us/step - loss: 0.2714 - acc: 0.9240 - val_loss: 0.2950 - val_acc: 0.9142\n"
     ]
    },
    {
     "data": {
      "text/plain": [
       "<tensorflow.python.keras.callbacks.History at 0x7f3beb9a8438>"
      ]
     },
     "execution_count": 25,
     "metadata": {},
     "output_type": "execute_result"
    }
   ],
   "source": [
    "hist = model.fit(train,train_labels_cat,validation_data=(valid, valid_labels_cat),batch_size=BS,epochs=EP)"
   ]
  },
  {
   "cell_type": "code",
   "execution_count": 15,
   "metadata": {},
   "outputs": [],
   "source": [
    "def dblModel():\n",
    "    print(\"building model dblModel\")\n",
    "    model = Sequential([\n",
    "        BatchNormalization(input_shape = (28,28,1)),\n",
    "        Flatten(),\n",
    "        Dense(32,activation='relu'),\n",
    "        BatchNormalization(),\n",
    "        Dense(10,activation='softmax')\n",
    "    ])\n",
    "    model.compile(Adam(),loss='categorical_crossentropy',metrics=[\"accuracy\"])\n",
    "    return model"
   ]
  },
  {
   "cell_type": "code",
   "execution_count": 26,
   "metadata": {},
   "outputs": [],
   "source": [
    "def convModel():\n",
    "    print(\"building model convModel\")\n",
    "    model = Sequential([\n",
    "        BatchNormalization(input_shape = (28,28,1)),\n",
    "        Convolution2D(64,3,3,activation='relu'),\n",
    "        BatchNormalization(),\n",
    "        MaxPooling2D((3,3)),\n",
    "#         Convolution2D(16,3,3,activation='relu'),\n",
    "#         BatchNormalization(),\n",
    "#         MaxPooling2D((3,3)),\n",
    "        Flatten(),\n",
    "        Dense(10,activation='softmax')\n",
    "    ])\n",
    "    model.compile(Adam(),loss='categorical_crossentropy',metrics=[\"accuracy\"])\n",
    "    return model"
   ]
  },
  {
   "cell_type": "code",
   "execution_count": 17,
   "metadata": {},
   "outputs": [],
   "source": [
    "def pyPlot(histsList,pType=['acc']):\n",
    "    for pt in pType:\n",
    "        plt.figure(figsize=(10,10))\n",
    "\n",
    "        for i,h in enumerate(histsList):\n",
    "            plt.subplot(2,2,i+1)    \n",
    "            plt.ylim(0,1)\n",
    "\n",
    "            plt.title('model {} {}'.format(pt,i+1))\n",
    "            plt.ylabel('{}'.format(pt))\n",
    "            plt.xlabel('epoch')\n",
    "\n",
    "            plt.plot(h.history['{}'.format(pt)])\n",
    "            plt.plot(h.history['val_{}'.format(pt)])\n",
    "\n",
    "            plt.legend(['train', 'test'],loc=0)\n",
    "\n",
    "        plt.show()"
   ]
  },
  {
   "cell_type": "code",
   "execution_count": 18,
   "metadata": {},
   "outputs": [
    {
     "name": "stdout",
     "output_type": "stream",
     "text": [
      "building model linModel\n",
      "building model dblModel\n",
      "building model convModel\n",
      "_________________________________________________________________\n",
      "Layer (type)                 Output Shape              Param #   \n",
      "=================================================================\n",
      "batch_normalization (BatchNo (None, 28, 28, 1)         4         \n",
      "_________________________________________________________________\n",
      "flatten (Flatten)            (None, 784)               0         \n",
      "_________________________________________________________________\n",
      "dense (Dense)                (None, 10)                7850      \n",
      "=================================================================\n",
      "Total params: 7,854\n",
      "Trainable params: 7,852\n",
      "Non-trainable params: 2\n",
      "_________________________________________________________________\n",
      "<tensorflow.python.keras.engine.sequential.Sequential object at 0x7fce58213898>\n",
      "Train on 50000 samples, validate on 10000 samples\n",
      "Epoch 1/15\n",
      "50000/50000 [==============================] - 13s 264us/step - loss: 0.4045 - acc: 0.8789 - val_loss: 0.3233 - val_acc: 0.9106\n",
      "Epoch 2/15\n",
      "50000/50000 [==============================] - 5s 110us/step - loss: 0.2971 - acc: 0.9144 - val_loss: 0.3140 - val_acc: 0.9132\n",
      "Epoch 3/15\n",
      "50000/50000 [==============================] - 5s 105us/step - loss: 0.2821 - acc: 0.9200 - val_loss: 0.3026 - val_acc: 0.9169\n",
      "Epoch 4/15\n",
      "50000/50000 [==============================] - 6s 115us/step - loss: 0.2739 - acc: 0.9225 - val_loss: 0.3142 - val_acc: 0.9134\n",
      "Epoch 5/15\n",
      "50000/50000 [==============================] - 5s 106us/step - loss: 0.2684 - acc: 0.9258 - val_loss: 0.3019 - val_acc: 0.9185\n",
      "Epoch 6/15\n",
      "50000/50000 [==============================] - 5s 107us/step - loss: 0.2641 - acc: 0.9254 - val_loss: 0.3065 - val_acc: 0.9183\n",
      "Epoch 7/15\n",
      "50000/50000 [==============================] - 5s 108us/step - loss: 0.2602 - acc: 0.9264 - val_loss: 0.3116 - val_acc: 0.9172\n",
      "Epoch 8/15\n",
      "50000/50000 [==============================] - 5s 105us/step - loss: 0.2568 - acc: 0.9278 - val_loss: 0.3046 - val_acc: 0.9167\n",
      "Epoch 9/15\n",
      "50000/50000 [==============================] - 5s 105us/step - loss: 0.2545 - acc: 0.9280 - val_loss: 0.3012 - val_acc: 0.9187\n",
      "Epoch 10/15\n",
      "50000/50000 [==============================] - 5s 105us/step - loss: 0.2523 - acc: 0.9293 - val_loss: 0.2982 - val_acc: 0.9217\n",
      "Epoch 11/15\n",
      "50000/50000 [==============================] - 5s 105us/step - loss: 0.2506 - acc: 0.9296 - val_loss: 0.3022 - val_acc: 0.9177\n",
      "Epoch 12/15\n",
      "50000/50000 [==============================] - 5s 105us/step - loss: 0.2490 - acc: 0.9300 - val_loss: 0.2981 - val_acc: 0.9201\n",
      "Epoch 13/15\n",
      "50000/50000 [==============================] - 5s 106us/step - loss: 0.2470 - acc: 0.9301 - val_loss: 0.2984 - val_acc: 0.9204\n",
      "Epoch 14/15\n",
      "50000/50000 [==============================] - 5s 105us/step - loss: 0.2461 - acc: 0.9298 - val_loss: 0.2977 - val_acc: 0.9210\n",
      "Epoch 15/15\n",
      "50000/50000 [==============================] - 6s 129us/step - loss: 0.2451 - acc: 0.9309 - val_loss: 0.2973 - val_acc: 0.9227\n",
      "_________________________________________________________________\n",
      "Layer (type)                 Output Shape              Param #   \n",
      "=================================================================\n",
      "batch_normalization_1 (Batch (None, 28, 28, 1)         4         \n",
      "_________________________________________________________________\n",
      "flatten_1 (Flatten)          (None, 784)               0         \n",
      "_________________________________________________________________\n",
      "dense_1 (Dense)              (None, 32)                25120     \n",
      "_________________________________________________________________\n",
      "batch_normalization_2 (Batch (None, 32)                128       \n",
      "_________________________________________________________________\n",
      "dense_2 (Dense)              (None, 10)                330       \n",
      "=================================================================\n",
      "Total params: 25,582\n",
      "Trainable params: 25,516\n",
      "Non-trainable params: 66\n",
      "_________________________________________________________________\n",
      "<tensorflow.python.keras.engine.sequential.Sequential object at 0x7fcdb950d5f8>\n",
      "Train on 50000 samples, validate on 10000 samples\n",
      "Epoch 1/15\n",
      "50000/50000 [==============================] - 9s 171us/step - loss: 0.3501 - acc: 0.9009 - val_loss: 0.2342 - val_acc: 0.9361\n",
      "Epoch 2/15\n",
      "50000/50000 [==============================] - 8s 153us/step - loss: 0.1901 - acc: 0.9445 - val_loss: 0.1766 - val_acc: 0.9499\n",
      "Epoch 3/15\n",
      "50000/50000 [==============================] - 8s 154us/step - loss: 0.1528 - acc: 0.9553 - val_loss: 0.1513 - val_acc: 0.9546\n",
      "Epoch 4/15\n",
      "50000/50000 [==============================] - 8s 153us/step - loss: 0.1322 - acc: 0.9600 - val_loss: 0.1453 - val_acc: 0.9569\n",
      "Epoch 5/15\n",
      "50000/50000 [==============================] - 8s 151us/step - loss: 0.1177 - acc: 0.9642 - val_loss: 0.1367 - val_acc: 0.9598\n",
      "Epoch 6/15\n",
      "50000/50000 [==============================] - 8s 153us/step - loss: 0.1088 - acc: 0.9660 - val_loss: 0.1436 - val_acc: 0.9568\n",
      "Epoch 7/15\n",
      "50000/50000 [==============================] - 8s 153us/step - loss: 0.1032 - acc: 0.9678 - val_loss: 0.1312 - val_acc: 0.9604\n",
      "Epoch 8/15\n",
      "50000/50000 [==============================] - 8s 153us/step - loss: 0.0966 - acc: 0.9690 - val_loss: 0.1337 - val_acc: 0.9605\n",
      "Epoch 9/15\n",
      "50000/50000 [==============================] - 8s 152us/step - loss: 0.0917 - acc: 0.9706 - val_loss: 0.1282 - val_acc: 0.9620\n",
      "Epoch 10/15\n",
      "50000/50000 [==============================] - 8s 152us/step - loss: 0.0868 - acc: 0.9721 - val_loss: 0.1349 - val_acc: 0.9605\n",
      "Epoch 11/15\n",
      "50000/50000 [==============================] - 8s 152us/step - loss: 0.0832 - acc: 0.9730 - val_loss: 0.1331 - val_acc: 0.9604\n",
      "Epoch 12/15\n",
      "50000/50000 [==============================] - 7s 150us/step - loss: 0.0774 - acc: 0.9747 - val_loss: 0.1285 - val_acc: 0.9629\n",
      "Epoch 13/15\n",
      "50000/50000 [==============================] - 8s 152us/step - loss: 0.0749 - acc: 0.9759 - val_loss: 0.1356 - val_acc: 0.9608\n",
      "Epoch 14/15\n",
      "50000/50000 [==============================] - 8s 153us/step - loss: 0.0718 - acc: 0.9768 - val_loss: 0.1295 - val_acc: 0.9618\n",
      "Epoch 15/15\n",
      "50000/50000 [==============================] - 8s 153us/step - loss: 0.0701 - acc: 0.9773 - val_loss: 0.1317 - val_acc: 0.9627\n",
      "_________________________________________________________________\n",
      "Layer (type)                 Output Shape              Param #   \n",
      "=================================================================\n",
      "batch_normalization_3 (Batch (None, 28, 28, 1)         4         \n",
      "_________________________________________________________________\n",
      "conv2d (Conv2D)              (None, 9, 9, 16)          160       \n",
      "_________________________________________________________________\n",
      "batch_normalization_4 (Batch (None, 9, 9, 16)          64        \n",
      "_________________________________________________________________\n",
      "max_pooling2d (MaxPooling2D) (None, 3, 3, 16)          0         \n",
      "_________________________________________________________________\n",
      "conv2d_1 (Conv2D)            (None, 1, 1, 16)          2320      \n",
      "_________________________________________________________________\n",
      "batch_normalization_5 (Batch (None, 1, 1, 16)          64        \n",
      "_________________________________________________________________\n",
      "flatten_2 (Flatten)          (None, 16)                0         \n",
      "_________________________________________________________________\n",
      "dense_3 (Dense)              (None, 10)                170       \n",
      "=================================================================\n",
      "Total params: 2,782\n",
      "Trainable params: 2,716\n",
      "Non-trainable params: 66\n",
      "_________________________________________________________________\n",
      "<tensorflow.python.keras.engine.sequential.Sequential object at 0x7fcdb923df60>\n",
      "Train on 50000 samples, validate on 10000 samples\n",
      "Epoch 1/15\n",
      "50000/50000 [==============================] - 9s 187us/step - loss: 0.6941 - acc: 0.7886 - val_loss: 0.3465 - val_acc: 0.8905\n",
      "Epoch 2/15\n",
      "50000/50000 [==============================] - 9s 176us/step - loss: 0.3399 - acc: 0.8921 - val_loss: 0.3137 - val_acc: 0.8971\n",
      "Epoch 3/15\n",
      "50000/50000 [==============================] - 9s 179us/step - loss: 0.2993 - acc: 0.9053 - val_loss: 0.2848 - val_acc: 0.9108\n",
      "Epoch 4/15\n"
     ]
    },
    {
     "name": "stdout",
     "output_type": "stream",
     "text": [
      "50000/50000 [==============================] - 9s 176us/step - loss: 0.2835 - acc: 0.9093 - val_loss: 0.2888 - val_acc: 0.9075\n",
      "Epoch 5/15\n",
      "50000/50000 [==============================] - 9s 175us/step - loss: 0.2723 - acc: 0.9123 - val_loss: 0.2471 - val_acc: 0.9218\n",
      "Epoch 6/15\n",
      "50000/50000 [==============================] - 9s 176us/step - loss: 0.2672 - acc: 0.9140 - val_loss: 0.3324 - val_acc: 0.8978\n",
      "Epoch 7/15\n",
      "50000/50000 [==============================] - 9s 176us/step - loss: 0.2612 - acc: 0.9157 - val_loss: 0.2793 - val_acc: 0.9122\n",
      "Epoch 8/15\n",
      "50000/50000 [==============================] - 9s 177us/step - loss: 0.2529 - acc: 0.9180 - val_loss: 0.3154 - val_acc: 0.8982\n",
      "Epoch 9/15\n",
      "50000/50000 [==============================] - 9s 175us/step - loss: 0.2507 - acc: 0.9196 - val_loss: 0.2562 - val_acc: 0.9189\n",
      "Epoch 10/15\n",
      "50000/50000 [==============================] - 9s 176us/step - loss: 0.2477 - acc: 0.9210 - val_loss: 0.2407 - val_acc: 0.9223\n",
      "Epoch 11/15\n",
      "50000/50000 [==============================] - 9s 176us/step - loss: 0.2474 - acc: 0.9200 - val_loss: 0.2381 - val_acc: 0.9244\n",
      "Epoch 12/15\n",
      "50000/50000 [==============================] - 9s 177us/step - loss: 0.2411 - acc: 0.9213 - val_loss: 0.2430 - val_acc: 0.9227\n",
      "Epoch 13/15\n",
      "50000/50000 [==============================] - 9s 173us/step - loss: 0.2414 - acc: 0.9229 - val_loss: 0.2444 - val_acc: 0.9203\n",
      "Epoch 14/15\n",
      "50000/50000 [==============================] - 9s 178us/step - loss: 0.2388 - acc: 0.9231 - val_loss: 0.3192 - val_acc: 0.8964\n",
      "Epoch 15/15\n",
      "50000/50000 [==============================] - 9s 176us/step - loss: 0.2362 - acc: 0.9236 - val_loss: 0.3323 - val_acc: 0.8914\n"
     ]
    }
   ],
   "source": [
    "modelType = [linModel() , dblModel() , convModel() ]\n",
    "models = []\n",
    "hists = []\n",
    "\n",
    "EP=15\n",
    "BS = 32\n",
    "\n",
    "for model in modelType:\n",
    "    model.summary()\n",
    "    print(model)\n",
    "    hist = model.fit(train,train_labels_cat,validation_data=(valid, valid_labels_cat),batch_size=BS,epochs=EP)\n",
    "    \n",
    "    models.append(model)\n",
    "    hists.append(hist)"
   ]
  },
  {
   "cell_type": "code",
   "execution_count": 19,
   "metadata": {
    "scrolled": true
   },
   "outputs": [
    {
     "data": {
      "image/png": "[encoded data removed]",
      "text/plain": [
       "<Figure size 720x720 with 3 Axes>"
      ]
     },
     "metadata": {
      "needs_background": "light"
     },
     "output_type": "display_data"
    },
    {
     "data": {
      "image/png": "[encoded data removed]",
      "text/plain": [
       "<Figure size 720x720 with 3 Axes>"
      ]
     },
     "metadata": {
      "needs_background": "light"
     },
     "output_type": "display_data"
    }
   ],
   "source": [
    "pyPlot(hists,['acc','loss'])"
   ]
  },
  {
   "cell_type": "code",
   "execution_count": 20,
   "metadata": {},
   "outputs": [
    {
     "name": "stdout",
     "output_type": "stream",
     "text": [
      "10000/10000 [==============================] - 0s 41us/step\n",
      "Test loss: 0.2754 accuracy: 0.9248\n",
      "10000/10000 [==============================] - 0s 45us/step\n",
      "Test loss: 0.1102 accuracy: 0.9665\n",
      "10000/10000 [==============================] - 0s 47us/step\n",
      "Test loss: 0.2996 accuracy: 0.9057\n"
     ]
    }
   ],
   "source": [
    "for model in models:\n",
    "    test_loss, test_acc = model.evaluate(testt, test_labels_cat, batch_size=BS)\n",
    "    print('Test loss: %.4f accuracy: %.4f' % (test_loss, test_acc))"
   ]
  },
  {
   "cell_type": "code",
   "execution_count": 30,
   "metadata": {},
   "outputs": [
    {
     "name": "stdout",
     "output_type": "stream",
     "text": [
      "building model convModel\n",
      "_________________________________________________________________\n",
      "Layer (type)                 Output Shape              Param #   \n",
      "=================================================================\n",
      "batch_normalization_21 (Batc (None, 28, 28, 1)         4         \n",
      "_________________________________________________________________\n",
      "conv2d_11 (Conv2D)           (None, 9, 9, 64)          640       \n",
      "_________________________________________________________________\n",
      "batch_normalization_22 (Batc (None, 9, 9, 64)          256       \n",
      "_________________________________________________________________\n",
      "max_pooling2d_7 (MaxPooling2 (None, 3, 3, 64)          0         \n",
      "_________________________________________________________________\n",
      "flatten_9 (Flatten)          (None, 576)               0         \n",
      "_________________________________________________________________\n",
      "dense_10 (Dense)             (None, 10)                5770      \n",
      "=================================================================\n",
      "Total params: 6,670\n",
      "Trainable params: 6,540\n",
      "Non-trainable params: 130\n",
      "_________________________________________________________________\n",
      "Train on 50000 samples, validate on 10000 samples\n",
      "Epoch 1/15\n",
      "50000/50000 [==============================] - 9s 184us/step - loss: 0.4339 - acc: 0.8625 - val_loss: 0.2870 - val_acc: 0.9108\n",
      "Epoch 2/15\n",
      "50000/50000 [==============================] - 8s 157us/step - loss: 0.2441 - acc: 0.9213 - val_loss: 0.2300 - val_acc: 0.9267\n",
      "Epoch 3/15\n",
      "50000/50000 [==============================] - 8s 157us/step - loss: 0.2139 - acc: 0.9307 - val_loss: 0.2571 - val_acc: 0.9163\n",
      "Epoch 4/15\n",
      "50000/50000 [==============================] - 8s 158us/step - loss: 0.1966 - acc: 0.9371 - val_loss: 0.2300 - val_acc: 0.9288\n",
      "Epoch 5/15\n",
      "50000/50000 [==============================] - 8s 162us/step - loss: 0.1845 - acc: 0.9417 - val_loss: 0.2163 - val_acc: 0.9331\n",
      "Epoch 6/15\n",
      "50000/50000 [==============================] - 8s 156us/step - loss: 0.1766 - acc: 0.9430 - val_loss: 0.2773 - val_acc: 0.9131\n",
      "Epoch 7/15\n",
      "50000/50000 [==============================] - 8s 159us/step - loss: 0.1698 - acc: 0.9453 - val_loss: 0.2121 - val_acc: 0.9327\n",
      "Epoch 8/15\n",
      "50000/50000 [==============================] - 8s 156us/step - loss: 0.1627 - acc: 0.9477 - val_loss: 0.2221 - val_acc: 0.9311\n",
      "Epoch 9/15\n",
      "50000/50000 [==============================] - 8s 162us/step - loss: 0.1551 - acc: 0.9493 - val_loss: 0.2230 - val_acc: 0.9300\n",
      "Epoch 10/15\n",
      "50000/50000 [==============================] - 8s 156us/step - loss: 0.1519 - acc: 0.9511 - val_loss: 0.2337 - val_acc: 0.9301\n",
      "Epoch 11/15\n",
      "50000/50000 [==============================] - 8s 159us/step - loss: 0.1492 - acc: 0.9518 - val_loss: 0.2051 - val_acc: 0.9382\n",
      "Epoch 12/15\n",
      "50000/50000 [==============================] - 8s 159us/step - loss: 0.1437 - acc: 0.9524 - val_loss: 0.1931 - val_acc: 0.9394\n",
      "Epoch 13/15\n",
      "50000/50000 [==============================] - 8s 160us/step - loss: 0.1422 - acc: 0.9529 - val_loss: 0.2061 - val_acc: 0.9364\n",
      "Epoch 14/15\n",
      "50000/50000 [==============================] - 8s 160us/step - loss: 0.1387 - acc: 0.9544 - val_loss: 0.2149 - val_acc: 0.9347\n",
      "Epoch 15/15\n",
      "50000/50000 [==============================] - 8s 162us/step - loss: 0.1363 - acc: 0.9543 - val_loss: 0.2232 - val_acc: 0.9342\n"
     ]
    },
    {
     "data": {
      "image/png": "[encoded data removed]",
      "text/plain": [
       "<Figure size 720x720 with 1 Axes>"
      ]
     },
     "metadata": {
      "needs_background": "light"
     },
     "output_type": "display_data"
    },
    {
     "data": {
      "image/png": "[encoded data removed]",
      "text/plain": [
       "<Figure size 720x720 with 1 Axes>"
      ]
     },
     "metadata": {
      "needs_background": "light"
     },
     "output_type": "display_data"
    }
   ],
   "source": [
    "model = convModel()\n",
    "model.summary()\n",
    "EP = 15\n",
    "hist = model.fit(train,train_labels_cat,validation_data=(valid, valid_labels_cat),batch_size=BS,epochs=EP)\n",
    "pyPlot([hist],['acc','loss'])"
   ]
  },
  {
   "cell_type": "code",
   "execution_count": 32,
   "metadata": {},
   "outputs": [
    {
     "name": "stdout",
     "output_type": "stream",
     "text": [
      "10000/10000 [==============================] - 0s 49us/step\n",
      "Test loss: 0.1876 accuracy: 0.9409\n"
     ]
    }
   ],
   "source": [
    "test_loss, test_acc = model.evaluate(testt, test_labels_cat, batch_size=BS)\n",
    "print('Test loss: %.4f accuracy: %.4f' % (test_loss, test_acc))"
   ]
  },
  {
   "cell_type": "code",
   "execution_count": null,
   "metadata": {},
   "outputs": [],
   "source": []
  }
 ],
 "metadata": {
  "kernelspec": {
   "display_name": "Python 3",
   "language": "python",
   "name": "python3"
  },
  "language_info": {
   "codemirror_mode": {
    "name": "ipython",
    "version": 3
   },
   "file_extension": ".py",
   "mimetype": "text/x-python",
   "name": "python",
   "nbconvert_exporter": "python",
   "pygments_lexer": "ipython3",
   "version": "3.6.7"
  }
 },
 "nbformat": 4,
 "nbformat_minor": 2
}
